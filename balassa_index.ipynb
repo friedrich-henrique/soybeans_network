{
 "cells": [
  {
   "cell_type": "code",
   "execution_count": 103,
   "metadata": {},
   "outputs": [],
   "source": [
    "import pandas as pd\n",
    "import matplotlib.pyplot as plt\n",
    "import networkx as nx\n",
    "import seaborn as sns\n",
    "import plotly.express as px\n",
    "from matplotlib import colors\n",
    "from os import listdir\n",
    "from os.path import isfile, join\n",
    "import numpy as np"
   ]
  },
  {
   "cell_type": "code",
   "execution_count": 104,
   "metadata": {},
   "outputs": [],
   "source": [
    "# product from country exports / total country exports / product world exports / total world exports\n",
    "\n",
    "# product from country exports -> soy_data\n",
    "# total country exports -> done\n",
    "# product world exports -> done \n",
    "# total world exports -> done"
   ]
  },
  {
   "cell_type": "code",
   "execution_count": 182,
   "metadata": {},
   "outputs": [],
   "source": [
    "soy_data = pd.read_csv('https://raw.githubusercontent.com/friedrich-henrique/datasets_soybeans_research/main/soytrade_dataset.csv')\n",
    "country_exports = pd.read_csv('https://raw.githubusercontent.com/friedrich-henrique/datasets_soybeans_research/main/country_exports.csv')\n",
    "world_exports = pd.read_csv('https://raw.githubusercontent.com/friedrich-henrique/datasets_soybeans_research/main/world_exports.csv')\n",
    "soy_exports = pd.read_csv('https://raw.githubusercontent.com/friedrich-henrique/datasets_soybeans_research/main/soy_world_trade.csv')"
   ]
  },
  {
   "cell_type": "code",
   "execution_count": 183,
   "metadata": {},
   "outputs": [
    {
     "name": "stdout",
     "output_type": "stream",
     "text": [
      "1996 2022\n"
     ]
    }
   ],
   "source": [
    "print(soy_data['Year'].min(), soy_data['Year'].max()) "
   ]
  },
  {
   "cell_type": "code",
   "execution_count": 108,
   "metadata": {},
   "outputs": [],
   "source": [
    "# group the soy_data by source country and year, sum the trade_value\n",
    "soy_country_exports = soy_data.groupby(['Source', 'Year'], as_index=False).sum().loc[:, ['Source', 'Year', 'trade_value']]"
   ]
  },
  {
   "cell_type": "code",
   "execution_count": 109,
   "metadata": {},
   "outputs": [],
   "source": [
    "# we can start our approach gettin the easier index, the denominator, since it is equal to all countries, \n",
    "# we just have to calculate the percantage of soybeans trade relative to all trade for each year."
   ]
  },
  {
   "cell_type": "code",
   "execution_count": 110,
   "metadata": {},
   "outputs": [
    {
     "name": "stdout",
     "output_type": "stream",
     "text": [
      "270 270\n"
     ]
    }
   ],
   "source": [
    "print(world_exports.size, soy_exports.size) "
   ]
  },
  {
   "cell_type": "code",
   "execution_count": 184,
   "metadata": {},
   "outputs": [
    {
     "data": {
      "text/html": [
       "<div>\n",
       "<style scoped>\n",
       "    .dataframe tbody tr th:only-of-type {\n",
       "        vertical-align: middle;\n",
       "    }\n",
       "\n",
       "    .dataframe tbody tr th {\n",
       "        vertical-align: top;\n",
       "    }\n",
       "\n",
       "    .dataframe thead th {\n",
       "        text-align: right;\n",
       "    }\n",
       "</style>\n",
       "<table border=\"1\" class=\"dataframe\">\n",
       "  <thead>\n",
       "    <tr style=\"text-align: right;\">\n",
       "      <th></th>\n",
       "      <th>Nomenclature</th>\n",
       "      <th>ReporterISO3</th>\n",
       "      <th>ProductCode</th>\n",
       "      <th>ReporterName</th>\n",
       "      <th>PartnerISO3</th>\n",
       "      <th>PartnerName</th>\n",
       "      <th>Year</th>\n",
       "      <th>TradeFlowName</th>\n",
       "      <th>TradeFlowCode</th>\n",
       "      <th>TradeValue in 1000 USD</th>\n",
       "    </tr>\n",
       "  </thead>\n",
       "  <tbody>\n",
       "    <tr>\n",
       "      <th>0</th>\n",
       "      <td>H1</td>\n",
       "      <td>All</td>\n",
       "      <td>Total</td>\n",
       "      <td>All countries  All --- All</td>\n",
       "      <td>WLD</td>\n",
       "      <td>World</td>\n",
       "      <td>1996</td>\n",
       "      <td>Export</td>\n",
       "      <td>6</td>\n",
       "      <td>4.154124e+09</td>\n",
       "    </tr>\n",
       "    <tr>\n",
       "      <th>1</th>\n",
       "      <td>H1</td>\n",
       "      <td>All</td>\n",
       "      <td>Total</td>\n",
       "      <td>All countries  All --- All</td>\n",
       "      <td>WLD</td>\n",
       "      <td>World</td>\n",
       "      <td>1997</td>\n",
       "      <td>Export</td>\n",
       "      <td>6</td>\n",
       "      <td>4.711246e+09</td>\n",
       "    </tr>\n",
       "    <tr>\n",
       "      <th>2</th>\n",
       "      <td>H1</td>\n",
       "      <td>All</td>\n",
       "      <td>Total</td>\n",
       "      <td>All countries  All --- All</td>\n",
       "      <td>WLD</td>\n",
       "      <td>World</td>\n",
       "      <td>1998</td>\n",
       "      <td>Export</td>\n",
       "      <td>6</td>\n",
       "      <td>4.768369e+09</td>\n",
       "    </tr>\n",
       "    <tr>\n",
       "      <th>3</th>\n",
       "      <td>H1</td>\n",
       "      <td>All</td>\n",
       "      <td>Total</td>\n",
       "      <td>All countries  All --- All</td>\n",
       "      <td>WLD</td>\n",
       "      <td>World</td>\n",
       "      <td>1999</td>\n",
       "      <td>Export</td>\n",
       "      <td>6</td>\n",
       "      <td>5.048204e+09</td>\n",
       "    </tr>\n",
       "    <tr>\n",
       "      <th>4</th>\n",
       "      <td>H1</td>\n",
       "      <td>All</td>\n",
       "      <td>Total</td>\n",
       "      <td>All countries  All --- All</td>\n",
       "      <td>WLD</td>\n",
       "      <td>World</td>\n",
       "      <td>2000</td>\n",
       "      <td>Export</td>\n",
       "      <td>6</td>\n",
       "      <td>5.948860e+09</td>\n",
       "    </tr>\n",
       "  </tbody>\n",
       "</table>\n",
       "</div>"
      ],
      "text/plain": [
       "  Nomenclature ReporterISO3 ProductCode                  ReporterName   \n",
       "0           H1          All       Total  All countries  All --- All    \\\n",
       "1           H1          All       Total  All countries  All --- All     \n",
       "2           H1          All       Total  All countries  All --- All     \n",
       "3           H1          All       Total  All countries  All --- All     \n",
       "4           H1          All       Total  All countries  All --- All     \n",
       "\n",
       "  PartnerISO3 PartnerName  Year TradeFlowName  TradeFlowCode   \n",
       "0         WLD       World  1996        Export              6  \\\n",
       "1         WLD       World  1997        Export              6   \n",
       "2         WLD       World  1998        Export              6   \n",
       "3         WLD       World  1999        Export              6   \n",
       "4         WLD       World  2000        Export              6   \n",
       "\n",
       "   TradeValue in 1000 USD  \n",
       "0            4.154124e+09  \n",
       "1            4.711246e+09  \n",
       "2            4.768369e+09  \n",
       "3            5.048204e+09  \n",
       "4            5.948860e+09  "
      ]
     },
     "execution_count": 184,
     "metadata": {},
     "output_type": "execute_result"
    }
   ],
   "source": [
    "world_exports.head()"
   ]
  },
  {
   "cell_type": "code",
   "execution_count": 185,
   "metadata": {},
   "outputs": [
    {
     "data": {
      "text/html": [
       "<div>\n",
       "<style scoped>\n",
       "    .dataframe tbody tr th:only-of-type {\n",
       "        vertical-align: middle;\n",
       "    }\n",
       "\n",
       "    .dataframe tbody tr th {\n",
       "        vertical-align: top;\n",
       "    }\n",
       "\n",
       "    .dataframe thead th {\n",
       "        text-align: right;\n",
       "    }\n",
       "</style>\n",
       "<table border=\"1\" class=\"dataframe\">\n",
       "  <thead>\n",
       "    <tr style=\"text-align: right;\">\n",
       "      <th></th>\n",
       "      <th>Year</th>\n",
       "      <th>World Exports</th>\n",
       "      <th>Soy Exports</th>\n",
       "      <th>Share</th>\n",
       "    </tr>\n",
       "  </thead>\n",
       "  <tbody>\n",
       "    <tr>\n",
       "      <th>0</th>\n",
       "      <td>1996</td>\n",
       "      <td>4.154124e+09</td>\n",
       "      <td>8.364485e+06</td>\n",
       "      <td>0.002014</td>\n",
       "    </tr>\n",
       "    <tr>\n",
       "      <th>1</th>\n",
       "      <td>1997</td>\n",
       "      <td>4.711246e+09</td>\n",
       "      <td>1.073127e+07</td>\n",
       "      <td>0.002278</td>\n",
       "    </tr>\n",
       "    <tr>\n",
       "      <th>2</th>\n",
       "      <td>1998</td>\n",
       "      <td>4.768369e+09</td>\n",
       "      <td>8.897066e+06</td>\n",
       "      <td>0.001866</td>\n",
       "    </tr>\n",
       "    <tr>\n",
       "      <th>3</th>\n",
       "      <td>1999</td>\n",
       "      <td>5.048204e+09</td>\n",
       "      <td>7.538839e+06</td>\n",
       "      <td>0.001493</td>\n",
       "    </tr>\n",
       "    <tr>\n",
       "      <th>4</th>\n",
       "      <td>2000</td>\n",
       "      <td>5.948860e+09</td>\n",
       "      <td>9.127687e+06</td>\n",
       "      <td>0.001534</td>\n",
       "    </tr>\n",
       "  </tbody>\n",
       "</table>\n",
       "</div>"
      ],
      "text/plain": [
       "   Year  World Exports   Soy Exports     Share\n",
       "0  1996   4.154124e+09  8.364485e+06  0.002014\n",
       "1  1997   4.711246e+09  1.073127e+07  0.002278\n",
       "2  1998   4.768369e+09  8.897066e+06  0.001866\n",
       "3  1999   5.048204e+09  7.538839e+06  0.001493\n",
       "4  2000   5.948860e+09  9.127687e+06  0.001534"
      ]
     },
     "execution_count": 185,
     "metadata": {},
     "output_type": "execute_result"
    }
   ],
   "source": [
    "# merge the two datasets and select only the columns we need\n",
    "denominator = world_exports.merge(soy_exports, on='Year').loc[:, ['Year', 'TradeValue in 1000 USD_x', 'TradeValue in 1000 USD_y']]\n",
    "# rename the columns\n",
    "denominator.columns = ['Year', 'World Exports', 'Soy Exports']\n",
    "# calculate the percentage\n",
    "denominator['Share'] = denominator['Soy Exports'] / denominator['World Exports']\n",
    "\n",
    "denominator.head()"
   ]
  },
  {
   "cell_type": "code",
   "execution_count": 113,
   "metadata": {},
   "outputs": [
    {
     "data": {
      "text/html": [
       "<div>\n",
       "<style scoped>\n",
       "    .dataframe tbody tr th:only-of-type {\n",
       "        vertical-align: middle;\n",
       "    }\n",
       "\n",
       "    .dataframe tbody tr th {\n",
       "        vertical-align: top;\n",
       "    }\n",
       "\n",
       "    .dataframe thead th {\n",
       "        text-align: right;\n",
       "    }\n",
       "</style>\n",
       "<table border=\"1\" class=\"dataframe\">\n",
       "  <thead>\n",
       "    <tr style=\"text-align: right;\">\n",
       "      <th></th>\n",
       "      <th>Nomenclature</th>\n",
       "      <th>ReporterISO3</th>\n",
       "      <th>ProductCode</th>\n",
       "      <th>ReporterName</th>\n",
       "      <th>PartnerISO3</th>\n",
       "      <th>PartnerName</th>\n",
       "      <th>Year</th>\n",
       "      <th>TradeFlowName</th>\n",
       "      <th>TradeFlowCode</th>\n",
       "      <th>TradeValue in 1000 USD</th>\n",
       "    </tr>\n",
       "  </thead>\n",
       "  <tbody>\n",
       "    <tr>\n",
       "      <th>0</th>\n",
       "      <td>H1</td>\n",
       "      <td>ABW</td>\n",
       "      <td>Total</td>\n",
       "      <td>Aruba</td>\n",
       "      <td>WLD</td>\n",
       "      <td>World</td>\n",
       "      <td>2000</td>\n",
       "      <td>Export</td>\n",
       "      <td>6</td>\n",
       "      <td>172999.090</td>\n",
       "    </tr>\n",
       "    <tr>\n",
       "      <th>1</th>\n",
       "      <td>H1</td>\n",
       "      <td>ABW</td>\n",
       "      <td>Total</td>\n",
       "      <td>Aruba</td>\n",
       "      <td>WLD</td>\n",
       "      <td>World</td>\n",
       "      <td>2001</td>\n",
       "      <td>Export</td>\n",
       "      <td>6</td>\n",
       "      <td>148856.140</td>\n",
       "    </tr>\n",
       "    <tr>\n",
       "      <th>2</th>\n",
       "      <td>H1</td>\n",
       "      <td>ABW</td>\n",
       "      <td>Total</td>\n",
       "      <td>Aruba</td>\n",
       "      <td>WLD</td>\n",
       "      <td>World</td>\n",
       "      <td>2002</td>\n",
       "      <td>Export</td>\n",
       "      <td>6</td>\n",
       "      <td>128258.862</td>\n",
       "    </tr>\n",
       "    <tr>\n",
       "      <th>3</th>\n",
       "      <td>H1</td>\n",
       "      <td>ABW</td>\n",
       "      <td>Total</td>\n",
       "      <td>Aruba</td>\n",
       "      <td>WLD</td>\n",
       "      <td>World</td>\n",
       "      <td>2003</td>\n",
       "      <td>Export</td>\n",
       "      <td>6</td>\n",
       "      <td>82190.500</td>\n",
       "    </tr>\n",
       "    <tr>\n",
       "      <th>4</th>\n",
       "      <td>H1</td>\n",
       "      <td>ABW</td>\n",
       "      <td>Total</td>\n",
       "      <td>Aruba</td>\n",
       "      <td>WLD</td>\n",
       "      <td>World</td>\n",
       "      <td>2004</td>\n",
       "      <td>Export</td>\n",
       "      <td>6</td>\n",
       "      <td>79682.025</td>\n",
       "    </tr>\n",
       "  </tbody>\n",
       "</table>\n",
       "</div>"
      ],
      "text/plain": [
       "  Nomenclature ReporterISO3 ProductCode ReporterName PartnerISO3 PartnerName   \n",
       "0           H1          ABW       Total        Aruba         WLD       World  \\\n",
       "1           H1          ABW       Total        Aruba         WLD       World   \n",
       "2           H1          ABW       Total        Aruba         WLD       World   \n",
       "3           H1          ABW       Total        Aruba         WLD       World   \n",
       "4           H1          ABW       Total        Aruba         WLD       World   \n",
       "\n",
       "   Year TradeFlowName  TradeFlowCode  TradeValue in 1000 USD  \n",
       "0  2000        Export              6              172999.090  \n",
       "1  2001        Export              6              148856.140  \n",
       "2  2002        Export              6              128258.862  \n",
       "3  2003        Export              6               82190.500  \n",
       "4  2004        Export              6               79682.025  "
      ]
     },
     "execution_count": 113,
     "metadata": {},
     "output_type": "execute_result"
    }
   ],
   "source": [
    "# denominator is ready, time to calculate the numerator\n",
    "\n",
    "country_exports.head()"
   ]
  },
  {
   "cell_type": "code",
   "execution_count": 114,
   "metadata": {},
   "outputs": [
    {
     "data": {
      "text/html": [
       "<div>\n",
       "<style scoped>\n",
       "    .dataframe tbody tr th:only-of-type {\n",
       "        vertical-align: middle;\n",
       "    }\n",
       "\n",
       "    .dataframe tbody tr th {\n",
       "        vertical-align: top;\n",
       "    }\n",
       "\n",
       "    .dataframe thead th {\n",
       "        text-align: right;\n",
       "    }\n",
       "</style>\n",
       "<table border=\"1\" class=\"dataframe\">\n",
       "  <thead>\n",
       "    <tr style=\"text-align: right;\">\n",
       "      <th></th>\n",
       "      <th>Source</th>\n",
       "      <th>Year</th>\n",
       "      <th>trade_value</th>\n",
       "    </tr>\n",
       "  </thead>\n",
       "  <tbody>\n",
       "    <tr>\n",
       "      <th>0</th>\n",
       "      <td>ABW</td>\n",
       "      <td>2000</td>\n",
       "      <td>0.162</td>\n",
       "    </tr>\n",
       "    <tr>\n",
       "      <th>1</th>\n",
       "      <td>ABW</td>\n",
       "      <td>2003</td>\n",
       "      <td>12.413</td>\n",
       "    </tr>\n",
       "    <tr>\n",
       "      <th>2</th>\n",
       "      <td>ABW</td>\n",
       "      <td>2007</td>\n",
       "      <td>0.011</td>\n",
       "    </tr>\n",
       "    <tr>\n",
       "      <th>3</th>\n",
       "      <td>ABW</td>\n",
       "      <td>2008</td>\n",
       "      <td>2.925</td>\n",
       "    </tr>\n",
       "    <tr>\n",
       "      <th>4</th>\n",
       "      <td>ABW</td>\n",
       "      <td>2009</td>\n",
       "      <td>1.048</td>\n",
       "    </tr>\n",
       "  </tbody>\n",
       "</table>\n",
       "</div>"
      ],
      "text/plain": [
       "  Source  Year  trade_value\n",
       "0    ABW  2000        0.162\n",
       "1    ABW  2003       12.413\n",
       "2    ABW  2007        0.011\n",
       "3    ABW  2008        2.925\n",
       "4    ABW  2009        1.048"
      ]
     },
     "execution_count": 114,
     "metadata": {},
     "output_type": "execute_result"
    }
   ],
   "source": [
    "soy_country_exports.head()"
   ]
  },
  {
   "cell_type": "code",
   "execution_count": 115,
   "metadata": {},
   "outputs": [
    {
     "name": "stdout",
     "output_type": "stream",
     "text": [
      "2390 4088\n"
     ]
    }
   ],
   "source": [
    "# it will be a bit more difficult, since as we can see not all countries have soybeans exports, or there are some years missing on the soybeans dataset\n",
    "# hence one simple solution is to add the country exports data into the soy_country_exports dataframe, since we do not need to keep track of what data is missing\n",
    "print (len(soy_country_exports), len(country_exports))"
   ]
  },
  {
   "cell_type": "code",
   "execution_count": 116,
   "metadata": {},
   "outputs": [],
   "source": [
    "for row in range(len(soy_country_exports)):\n",
    "    soy_country_exports.loc[row, 'Country Export'] = country_exports.loc[(country_exports['ReporterISO3'] == soy_country_exports.loc[row]['Source']) & (country_exports['Year'] == soy_country_exports.loc[row]['Year']), 'TradeValue in 1000 USD'].values[0]"
   ]
  },
  {
   "cell_type": "code",
   "execution_count": 117,
   "metadata": {},
   "outputs": [
    {
     "data": {
      "text/html": [
       "<div>\n",
       "<style scoped>\n",
       "    .dataframe tbody tr th:only-of-type {\n",
       "        vertical-align: middle;\n",
       "    }\n",
       "\n",
       "    .dataframe tbody tr th {\n",
       "        vertical-align: top;\n",
       "    }\n",
       "\n",
       "    .dataframe thead th {\n",
       "        text-align: right;\n",
       "    }\n",
       "</style>\n",
       "<table border=\"1\" class=\"dataframe\">\n",
       "  <thead>\n",
       "    <tr style=\"text-align: right;\">\n",
       "      <th></th>\n",
       "      <th>Country</th>\n",
       "      <th>Year</th>\n",
       "      <th>Trade Value</th>\n",
       "      <th>Country Export</th>\n",
       "      <th>Share</th>\n",
       "    </tr>\n",
       "  </thead>\n",
       "  <tbody>\n",
       "    <tr>\n",
       "      <th>0</th>\n",
       "      <td>ABW</td>\n",
       "      <td>2000</td>\n",
       "      <td>0.162</td>\n",
       "      <td>172999.090</td>\n",
       "      <td>9.364211e-07</td>\n",
       "    </tr>\n",
       "    <tr>\n",
       "      <th>1</th>\n",
       "      <td>ABW</td>\n",
       "      <td>2003</td>\n",
       "      <td>12.413</td>\n",
       "      <td>82190.500</td>\n",
       "      <td>1.510272e-04</td>\n",
       "    </tr>\n",
       "    <tr>\n",
       "      <th>2</th>\n",
       "      <td>ABW</td>\n",
       "      <td>2007</td>\n",
       "      <td>0.011</td>\n",
       "      <td>97892.753</td>\n",
       "      <td>1.123679e-07</td>\n",
       "    </tr>\n",
       "    <tr>\n",
       "      <th>3</th>\n",
       "      <td>ABW</td>\n",
       "      <td>2008</td>\n",
       "      <td>2.925</td>\n",
       "      <td>100869.319</td>\n",
       "      <td>2.899792e-05</td>\n",
       "    </tr>\n",
       "    <tr>\n",
       "      <th>4</th>\n",
       "      <td>ABW</td>\n",
       "      <td>2009</td>\n",
       "      <td>1.048</td>\n",
       "      <td>135747.078</td>\n",
       "      <td>7.720240e-06</td>\n",
       "    </tr>\n",
       "  </tbody>\n",
       "</table>\n",
       "</div>"
      ],
      "text/plain": [
       "  Country  Year  Trade Value  Country Export         Share\n",
       "0     ABW  2000        0.162      172999.090  9.364211e-07\n",
       "1     ABW  2003       12.413       82190.500  1.510272e-04\n",
       "2     ABW  2007        0.011       97892.753  1.123679e-07\n",
       "3     ABW  2008        2.925      100869.319  2.899792e-05\n",
       "4     ABW  2009        1.048      135747.078  7.720240e-06"
      ]
     },
     "execution_count": 117,
     "metadata": {},
     "output_type": "execute_result"
    }
   ],
   "source": [
    "soy_country_exports.columns = ['Country', 'Year', 'Trade Value', 'Country Export']\n",
    "\n",
    "soy_country_exports['Share'] = soy_country_exports['Trade Value'] / soy_country_exports['Country Export']\n",
    "\n",
    "soy_country_exports.head()"
   ]
  },
  {
   "cell_type": "code",
   "execution_count": 118,
   "metadata": {},
   "outputs": [
    {
     "data": {
      "text/html": [
       "<div>\n",
       "<style scoped>\n",
       "    .dataframe tbody tr th:only-of-type {\n",
       "        vertical-align: middle;\n",
       "    }\n",
       "\n",
       "    .dataframe tbody tr th {\n",
       "        vertical-align: top;\n",
       "    }\n",
       "\n",
       "    .dataframe thead th {\n",
       "        text-align: right;\n",
       "    }\n",
       "</style>\n",
       "<table border=\"1\" class=\"dataframe\">\n",
       "  <thead>\n",
       "    <tr style=\"text-align: right;\">\n",
       "      <th></th>\n",
       "      <th>Year</th>\n",
       "      <th>World Exports</th>\n",
       "      <th>Soy Exports</th>\n",
       "      <th>Share</th>\n",
       "    </tr>\n",
       "  </thead>\n",
       "  <tbody>\n",
       "    <tr>\n",
       "      <th>0</th>\n",
       "      <td>1996</td>\n",
       "      <td>4.154124e+09</td>\n",
       "      <td>8.364485e+06</td>\n",
       "      <td>0.002014</td>\n",
       "    </tr>\n",
       "    <tr>\n",
       "      <th>1</th>\n",
       "      <td>1997</td>\n",
       "      <td>4.711246e+09</td>\n",
       "      <td>1.073127e+07</td>\n",
       "      <td>0.002278</td>\n",
       "    </tr>\n",
       "    <tr>\n",
       "      <th>2</th>\n",
       "      <td>1998</td>\n",
       "      <td>4.768369e+09</td>\n",
       "      <td>8.897066e+06</td>\n",
       "      <td>0.001866</td>\n",
       "    </tr>\n",
       "    <tr>\n",
       "      <th>3</th>\n",
       "      <td>1999</td>\n",
       "      <td>5.048204e+09</td>\n",
       "      <td>7.538839e+06</td>\n",
       "      <td>0.001493</td>\n",
       "    </tr>\n",
       "    <tr>\n",
       "      <th>4</th>\n",
       "      <td>2000</td>\n",
       "      <td>5.948860e+09</td>\n",
       "      <td>9.127687e+06</td>\n",
       "      <td>0.001534</td>\n",
       "    </tr>\n",
       "  </tbody>\n",
       "</table>\n",
       "</div>"
      ],
      "text/plain": [
       "   Year  World Exports   Soy Exports     Share\n",
       "0  1996   4.154124e+09  8.364485e+06  0.002014\n",
       "1  1997   4.711246e+09  1.073127e+07  0.002278\n",
       "2  1998   4.768369e+09  8.897066e+06  0.001866\n",
       "3  1999   5.048204e+09  7.538839e+06  0.001493\n",
       "4  2000   5.948860e+09  9.127687e+06  0.001534"
      ]
     },
     "execution_count": 118,
     "metadata": {},
     "output_type": "execute_result"
    }
   ],
   "source": [
    "denominator.head()"
   ]
  },
  {
   "cell_type": "code",
   "execution_count": 119,
   "metadata": {},
   "outputs": [
    {
     "data": {
      "text/html": [
       "<div>\n",
       "<style scoped>\n",
       "    .dataframe tbody tr th:only-of-type {\n",
       "        vertical-align: middle;\n",
       "    }\n",
       "\n",
       "    .dataframe tbody tr th {\n",
       "        vertical-align: top;\n",
       "    }\n",
       "\n",
       "    .dataframe thead th {\n",
       "        text-align: right;\n",
       "    }\n",
       "</style>\n",
       "<table border=\"1\" class=\"dataframe\">\n",
       "  <thead>\n",
       "    <tr style=\"text-align: right;\">\n",
       "      <th></th>\n",
       "      <th>Country</th>\n",
       "      <th>Year</th>\n",
       "      <th>Trade Value</th>\n",
       "      <th>Country Export</th>\n",
       "      <th>Numerator</th>\n",
       "      <th>Denominator</th>\n",
       "    </tr>\n",
       "  </thead>\n",
       "  <tbody>\n",
       "    <tr>\n",
       "      <th>0</th>\n",
       "      <td>ABW</td>\n",
       "      <td>2000</td>\n",
       "      <td>0.162</td>\n",
       "      <td>172999.090</td>\n",
       "      <td>9.364211e-07</td>\n",
       "      <td>0.001534</td>\n",
       "    </tr>\n",
       "    <tr>\n",
       "      <th>1</th>\n",
       "      <td>ABW</td>\n",
       "      <td>2003</td>\n",
       "      <td>12.413</td>\n",
       "      <td>82190.500</td>\n",
       "      <td>1.510272e-04</td>\n",
       "      <td>0.002173</td>\n",
       "    </tr>\n",
       "    <tr>\n",
       "      <th>2</th>\n",
       "      <td>ABW</td>\n",
       "      <td>2007</td>\n",
       "      <td>0.011</td>\n",
       "      <td>97892.753</td>\n",
       "      <td>1.123679e-07</td>\n",
       "      <td>0.001736</td>\n",
       "    </tr>\n",
       "    <tr>\n",
       "      <th>3</th>\n",
       "      <td>ABW</td>\n",
       "      <td>2008</td>\n",
       "      <td>2.925</td>\n",
       "      <td>100869.319</td>\n",
       "      <td>2.899792e-05</td>\n",
       "      <td>0.002311</td>\n",
       "    </tr>\n",
       "    <tr>\n",
       "      <th>4</th>\n",
       "      <td>ABW</td>\n",
       "      <td>2009</td>\n",
       "      <td>1.048</td>\n",
       "      <td>135747.078</td>\n",
       "      <td>7.720240e-06</td>\n",
       "      <td>0.002784</td>\n",
       "    </tr>\n",
       "  </tbody>\n",
       "</table>\n",
       "</div>"
      ],
      "text/plain": [
       "  Country  Year  Trade Value  Country Export     Numerator  Denominator\n",
       "0     ABW  2000        0.162      172999.090  9.364211e-07     0.001534\n",
       "1     ABW  2003       12.413       82190.500  1.510272e-04     0.002173\n",
       "2     ABW  2007        0.011       97892.753  1.123679e-07     0.001736\n",
       "3     ABW  2008        2.925      100869.319  2.899792e-05     0.002311\n",
       "4     ABW  2009        1.048      135747.078  7.720240e-06     0.002784"
      ]
     },
     "execution_count": 119,
     "metadata": {},
     "output_type": "execute_result"
    }
   ],
   "source": [
    "# now we have the numerator and the denominator, we can calculate the index\n",
    "# this will be done using the soy country exports dataframe , we will retrieve the denominator for the corresponding year. \n",
    "# consequently we will have the Ballassa index, since it is just the ratio of these two values\n",
    "\n",
    "# Merge the two DataFrames based on the \"Year\" column\n",
    "soy_country_exports = soy_country_exports.merge(denominator[['Year', 'Share']], on='Year', how='left')\n",
    "\n",
    "# Rename the \"Share\" column from the denominator DataFrame\n",
    "soy_country_exports.rename(columns={'Share_y': 'Denominator', 'Share_x': 'Numerator'}, inplace=True)\n",
    "\n",
    "soy_country_exports.head()"
   ]
  },
  {
   "cell_type": "code",
   "execution_count": 132,
   "metadata": {},
   "outputs": [
    {
     "data": {
      "text/html": [
       "<div>\n",
       "<style scoped>\n",
       "    .dataframe tbody tr th:only-of-type {\n",
       "        vertical-align: middle;\n",
       "    }\n",
       "\n",
       "    .dataframe tbody tr th {\n",
       "        vertical-align: top;\n",
       "    }\n",
       "\n",
       "    .dataframe thead th {\n",
       "        text-align: right;\n",
       "    }\n",
       "</style>\n",
       "<table border=\"1\" class=\"dataframe\">\n",
       "  <thead>\n",
       "    <tr style=\"text-align: right;\">\n",
       "      <th></th>\n",
       "      <th>Country</th>\n",
       "      <th>Year</th>\n",
       "      <th>Trade Value</th>\n",
       "      <th>Country Export</th>\n",
       "      <th>Numerator</th>\n",
       "      <th>Denominator</th>\n",
       "    </tr>\n",
       "  </thead>\n",
       "  <tbody>\n",
       "    <tr>\n",
       "      <th>6</th>\n",
       "      <td>AFG</td>\n",
       "      <td>2018</td>\n",
       "      <td>2.309</td>\n",
       "      <td>8.752414e+05</td>\n",
       "      <td>2.638129e-06</td>\n",
       "      <td>0.003213</td>\n",
       "    </tr>\n",
       "    <tr>\n",
       "      <th>8</th>\n",
       "      <td>AGO</td>\n",
       "      <td>2018</td>\n",
       "      <td>11.928</td>\n",
       "      <td>4.066472e+07</td>\n",
       "      <td>2.933255e-07</td>\n",
       "      <td>0.003213</td>\n",
       "    </tr>\n",
       "    <tr>\n",
       "      <th>19</th>\n",
       "      <td>ARE</td>\n",
       "      <td>2018</td>\n",
       "      <td>0.569</td>\n",
       "      <td>1.733842e+08</td>\n",
       "      <td>3.281729e-09</td>\n",
       "      <td>0.003213</td>\n",
       "    </tr>\n",
       "    <tr>\n",
       "      <th>45</th>\n",
       "      <td>ARG</td>\n",
       "      <td>2018</td>\n",
       "      <td>1386599.732</td>\n",
       "      <td>6.155836e+07</td>\n",
       "      <td>2.252496e-02</td>\n",
       "      <td>0.003213</td>\n",
       "    </tr>\n",
       "    <tr>\n",
       "      <th>71</th>\n",
       "      <td>AUS</td>\n",
       "      <td>2018</td>\n",
       "      <td>2293.799</td>\n",
       "      <td>2.565653e+08</td>\n",
       "      <td>8.940411e-06</td>\n",
       "      <td>0.003213</td>\n",
       "    </tr>\n",
       "  </tbody>\n",
       "</table>\n",
       "</div>"
      ],
      "text/plain": [
       "   Country  Year  Trade Value  Country Export     Numerator  Denominator\n",
       "6      AFG  2018        2.309    8.752414e+05  2.638129e-06     0.003213\n",
       "8      AGO  2018       11.928    4.066472e+07  2.933255e-07     0.003213\n",
       "19     ARE  2018        0.569    1.733842e+08  3.281729e-09     0.003213\n",
       "45     ARG  2018  1386599.732    6.155836e+07  2.252496e-02     0.003213\n",
       "71     AUS  2018     2293.799    2.565653e+08  8.940411e-06     0.003213"
      ]
     },
     "execution_count": 132,
     "metadata": {},
     "output_type": "execute_result"
    }
   ],
   "source": [
    "# just a quick check to see if the denominator data is equal for the entire year \n",
    "soy_country_exports.loc[(soy_country_exports['Year'] == 2018), :].head()"
   ]
  },
  {
   "cell_type": "code",
   "execution_count": 133,
   "metadata": {},
   "outputs": [],
   "source": [
    "soy_country_exports['Balassa Index'] = soy_country_exports['Numerator'] / soy_country_exports['Denominator']"
   ]
  },
  {
   "cell_type": "code",
   "execution_count": 134,
   "metadata": {},
   "outputs": [
    {
     "data": {
      "text/html": [
       "<div>\n",
       "<style scoped>\n",
       "    .dataframe tbody tr th:only-of-type {\n",
       "        vertical-align: middle;\n",
       "    }\n",
       "\n",
       "    .dataframe tbody tr th {\n",
       "        vertical-align: top;\n",
       "    }\n",
       "\n",
       "    .dataframe thead th {\n",
       "        text-align: right;\n",
       "    }\n",
       "</style>\n",
       "<table border=\"1\" class=\"dataframe\">\n",
       "  <thead>\n",
       "    <tr style=\"text-align: right;\">\n",
       "      <th></th>\n",
       "      <th>Country</th>\n",
       "      <th>Year</th>\n",
       "      <th>Trade Value</th>\n",
       "      <th>Country Export</th>\n",
       "      <th>Numerator</th>\n",
       "      <th>Denominator</th>\n",
       "      <th>Balassa Index</th>\n",
       "    </tr>\n",
       "  </thead>\n",
       "  <tbody>\n",
       "    <tr>\n",
       "      <th>1810</th>\n",
       "      <td>PRY</td>\n",
       "      <td>1999</td>\n",
       "      <td>307134.810</td>\n",
       "      <td>740768.872</td>\n",
       "      <td>0.414616</td>\n",
       "      <td>0.001493</td>\n",
       "      <td>277.637901</td>\n",
       "    </tr>\n",
       "    <tr>\n",
       "      <th>1809</th>\n",
       "      <td>PRY</td>\n",
       "      <td>1998</td>\n",
       "      <td>440314.828</td>\n",
       "      <td>1014102.656</td>\n",
       "      <td>0.434192</td>\n",
       "      <td>0.001866</td>\n",
       "      <td>232.704329</td>\n",
       "    </tr>\n",
       "    <tr>\n",
       "      <th>1822</th>\n",
       "      <td>PRY</td>\n",
       "      <td>2011</td>\n",
       "      <td>2294318.165</td>\n",
       "      <td>7776442.112</td>\n",
       "      <td>0.295034</td>\n",
       "      <td>0.002651</td>\n",
       "      <td>111.271761</td>\n",
       "    </tr>\n",
       "    <tr>\n",
       "      <th>1816</th>\n",
       "      <td>PRY</td>\n",
       "      <td>2005</td>\n",
       "      <td>562992.041</td>\n",
       "      <td>3152567.667</td>\n",
       "      <td>0.178582</td>\n",
       "      <td>0.001606</td>\n",
       "      <td>111.225319</td>\n",
       "    </tr>\n",
       "    <tr>\n",
       "      <th>1815</th>\n",
       "      <td>PRY</td>\n",
       "      <td>2004</td>\n",
       "      <td>573242.760</td>\n",
       "      <td>2874456.410</td>\n",
       "      <td>0.199426</td>\n",
       "      <td>0.001802</td>\n",
       "      <td>110.685137</td>\n",
       "    </tr>\n",
       "  </tbody>\n",
       "</table>\n",
       "</div>"
      ],
      "text/plain": [
       "     Country  Year  Trade Value  Country Export  Numerator  Denominator   \n",
       "1810     PRY  1999   307134.810      740768.872   0.414616     0.001493  \\\n",
       "1809     PRY  1998   440314.828     1014102.656   0.434192     0.001866   \n",
       "1822     PRY  2011  2294318.165     7776442.112   0.295034     0.002651   \n",
       "1816     PRY  2005   562992.041     3152567.667   0.178582     0.001606   \n",
       "1815     PRY  2004   573242.760     2874456.410   0.199426     0.001802   \n",
       "\n",
       "      Balassa Index  \n",
       "1810     277.637901  \n",
       "1809     232.704329  \n",
       "1822     111.271761  \n",
       "1816     111.225319  \n",
       "1815     110.685137  "
      ]
     },
     "execution_count": 134,
     "metadata": {},
     "output_type": "execute_result"
    }
   ],
   "source": [
    "soy_country_exports.sort_values(by='Balassa Index', ascending=False).head()"
   ]
  },
  {
   "cell_type": "code",
   "execution_count": 173,
   "metadata": {},
   "outputs": [],
   "source": [
    "def get_top_balassa_index(df, top=10):\n",
    "    return df.groupby('Country').mean().sort_values(by='Balassa Index', ascending=False).head(top).index.values"
   ]
  },
  {
   "cell_type": "code",
   "execution_count": 181,
   "metadata": {},
   "outputs": [
    {
     "data": {
      "image/png": "[encoded data removed]",
      "text/plain": [
       "<Figure size 1000x600 with 1 Axes>"
      ]
     },
     "metadata": {},
     "output_type": "display_data"
    },
    {
     "data": {
      "application/vnd.plotly.v1+json": {
       "config": {
        "plotlyServerURL": "https://plot.ly"
       },
       "data": [
        {
         "hovertemplate": "Country=ARG<br>Year=%{x}<br>Balassa Index=%{y}<extra></extra>",
         "legendgroup": "ARG",
         "line": {
          "color": "#636efa",
          "dash": "solid"
         },
         "marker": {
          "symbol": "circle"
         },
         "mode": "markers+lines",
         "name": "ARG",
         "orientation": "v",
         "showlegend": true,
         "type": "scatter",
         "x": [
          1996,
          1997,
          1998,
          1999,
          2000,
          2001,
          2002,
          2003,
          2004,
          2005,
          2006,
          2007,
          2008,
          2009,
          2010,
          2011,
          2012,
          2013,
          2014,
          2015,
          2016,
          2017,
          2018,
          2019,
          2020,
          2021
         ],
         "xaxis": "x",
         "y": [
          12.268813562247054,
          2.404466829579046,
          13.179180120010047,
          14.653517889915099,
          19.258228477097735,
          26.051398780677577,
          24.45193765164021,
          28.28848367794162,
          27.932715936162413,
          35.65033813685895,
          27.015002091498044,
          35.477939581831116,
          28.322783380754586,
          10.80882835171355,
          26.27694135632132,
          23.898311301036742,
          12.698097168735043,
          16.496108569537796,
          16.34697946548055,
          22.386608571624,
          15.65105588160579,
          13.529542266847168,
          7.009642192887226,
          16.958919772588477,
          10.376558944022335,
          7.785864251433432
         ],
         "yaxis": "y"
        },
        {
         "hovertemplate": "Country=BOL<br>Year=%{x}<br>Balassa Index=%{y}<extra></extra>",
         "legendgroup": "BOL",
         "line": {
          "color": "#EF553B",
          "dash": "solid"
         },
         "marker": {
          "symbol": "diamond"
         },
         "mode": "markers+lines",
         "name": "BOL",
         "orientation": "v",
         "showlegend": true,
         "type": "scatter",
         "x": [
          1997,
          1998,
          1999,
          2000,
          2001,
          2002,
          2003,
          2004,
          2005,
          2006,
          2007,
          2008,
          2009,
          2010,
          2011,
          2012,
          2013,
          2014,
          2015,
          2016,
          2017,
          2018,
          2019,
          2020,
          2021,
          2022
         ],
         "xaxis": "x",
         "y": [
          21.25502968898998,
          19.15268428116483,
          19.15252783550084,
          24.295397177414976,
          0.7334958109104851,
          2.487207313562306,
          7.369702663496516,
          5.865550371215076,
          7.252541248752121,
          2.630568115840238,
          2.06512790815002,
          2.47751763555686,
          3.3947366127052985,
          1.0020108366321963,
          0.6347813533469322,
          4.252595650995151,
          6.707247666513626,
          2.060930028581677,
          0.11261000183457533,
          1.258535510176219,
          0.19556570586482103,
          0.11511048824725413,
          0.17017342399768923,
          0.29387177761752364,
          1.099467443117781,
          4.975816324275183
         ],
         "yaxis": "y"
        },
        {
         "hovertemplate": "Country=BRA<br>Year=%{x}<br>Balassa Index=%{y}<extra></extra>",
         "legendgroup": "BRA",
         "line": {
          "color": "#00cc96",
          "dash": "solid"
         },
         "marker": {
          "symbol": "square"
         },
         "mode": "markers+lines",
         "name": "BRA",
         "orientation": "v",
         "showlegend": true,
         "type": "scatter",
         "x": [
          1997,
          1998,
          1999,
          2000,
          2001,
          2002,
          2003,
          2004,
          2005,
          2006,
          2007,
          2008,
          2009,
          2010,
          2011,
          2012,
          2013,
          2014,
          2015,
          2016,
          2017,
          2018,
          2019,
          2020,
          2021,
          2022
         ],
         "xaxis": "x",
         "y": [
          20.319882387013443,
          22.807514083325668,
          22.22202812423674,
          25.928501470607316,
          26.163647065328245,
          28.307865405159355,
          27.10913849337573,
          31.35035323279837,
          27.896456958930777,
          29.01331123437579,
          24.09336206213049,
          24.207070091200894,
          27.030540329875983,
          19.794103415463578,
          24.26758769896433,
          23.141318050945333,
          30.05391232824817,
          31.200490116504586,
          33.44839101868552,
          30.153474344084092,
          34.582703386935805,
          44.35965425099422,
          38.24777370438857,
          35.57197749063121,
          37.400073785724054,
          28.200262951739653
         ],
         "yaxis": "y"
        },
        {
         "hovertemplate": "Country=PRY<br>Year=%{x}<br>Balassa Index=%{y}<extra></extra>",
         "legendgroup": "PRY",
         "line": {
          "color": "#ab63fa",
          "dash": "solid"
         },
         "marker": {
          "symbol": "x"
         },
         "mode": "markers+lines",
         "name": "PRY",
         "orientation": "v",
         "showlegend": true,
         "type": "scatter",
         "x": [
          1998,
          1999,
          2000,
          2001,
          2002,
          2003,
          2004,
          2005,
          2006,
          2007,
          2008,
          2009,
          2010,
          2011,
          2012,
          2013,
          2014,
          2015,
          2016,
          2017,
          2018,
          2019,
          2020,
          2021,
          2022
         ],
         "xaxis": "x",
         "y": [
          232.70432871023206,
          277.6379008057419,
          84.70010388043103,
          84.23327990281449,
          82.2027584827794,
          99.5972201052783,
          110.68513744484952,
          111.22531922261827,
          85.57294427874224,
          104.90421743086337,
          100.30705009098543,
          55.2788351219148,
          87.69263312615422,
          111.2717611331878,
          69.13785601810217,
          81.28978678612934,
          70.83748386683534,
          56.99534475225677,
          59.92079030152114,
          71.0233764475695,
          75.88863805130785,
          66.80348017464264,
          65.64721502526419,
          76.64864764813198,
          24.92627422543904
         ],
         "yaxis": "y"
        },
        {
         "hovertemplate": "Country=URY<br>Year=%{x}<br>Balassa Index=%{y}<extra></extra>",
         "legendgroup": "URY",
         "line": {
          "color": "#FFA15A",
          "dash": "solid"
         },
         "marker": {
          "symbol": "cross"
         },
         "mode": "markers+lines",
         "name": "URY",
         "orientation": "v",
         "showlegend": true,
         "type": "scatter",
         "x": [
          1997,
          2001,
          2002,
          2003,
          2004,
          2005,
          2006,
          2007,
          2008,
          2009,
          2010,
          2011,
          2012,
          2013,
          2014,
          2015,
          2016,
          2017,
          2018,
          2019,
          2020,
          2021,
          2022
         ],
         "xaxis": "x",
         "y": [
          0.02716745303606481,
          0.43092144169655827,
          3.035850700193998,
          7.576819856252574,
          17.06652633276257,
          18.326986182652764,
          24.441847803323803,
          26.664687183196598,
          23.837796932012324,
          30.28631074685269,
          37.69267447266606,
          38.40272547914638,
          50.40966791564132,
          63.34656985031855,
          52.363782668981806,
          43.55444945074122,
          34.472318449873875,
          43.988087324701795,
          21.84150928147538,
          42.25428063635657,
          28.924739932663098,
          25.432513288165843,
          34.72662983154652
         ],
         "yaxis": "y"
        }
       ],
       "layout": {
        "height": 600,
        "legend": {
         "title": {
          "text": "Country"
         },
         "tracegroupgap": 0
        },
        "margin": {
         "t": 60
        },
        "template": {
         "data": {
          "bar": [
           {
            "error_x": {
             "color": "#2a3f5f"
            },
            "error_y": {
             "color": "#2a3f5f"
            },
            "marker": {
             "line": {
              "color": "#E5ECF6",
              "width": 0.5
             },
             "pattern": {
              "fillmode": "overlay",
              "size": 10,
              "solidity": 0.2
             }
            },
            "type": "bar"
           }
          ],
          "barpolar": [
           {
            "marker": {
             "line": {
              "color": "#E5ECF6",
              "width": 0.5
             },
             "pattern": {
              "fillmode": "overlay",
              "size": 10,
              "solidity": 0.2
             }
            },
            "type": "barpolar"
           }
          ],
          "carpet": [
           {
            "aaxis": {
             "endlinecolor": "#2a3f5f",
             "gridcolor": "white",
             "linecolor": "white",
             "minorgridcolor": "white",
             "startlinecolor": "#2a3f5f"
            },
            "baxis": {
             "endlinecolor": "#2a3f5f",
             "gridcolor": "white",
             "linecolor": "white",
             "minorgridcolor": "white",
             "startlinecolor": "#2a3f5f"
            },
            "type": "carpet"
           }
          ],
          "choropleth": [
           {
            "colorbar": {
             "outlinewidth": 0,
             "ticks": ""
            },
            "type": "choropleth"
           }
          ],
          "contour": [
           {
            "colorbar": {
             "outlinewidth": 0,
             "ticks": ""
            },
            "colorscale": [
             [
              0,
              "#0d0887"
             ],
             [
              0.1111111111111111,
              "#46039f"
             ],
             [
              0.2222222222222222,
              "#7201a8"
             ],
             [
              0.3333333333333333,
              "#9c179e"
             ],
             [
              0.4444444444444444,
              "#bd3786"
             ],
             [
              0.5555555555555556,
              "#d8576b"
             ],
             [
              0.6666666666666666,
              "#ed7953"
             ],
             [
              0.7777777777777778,
              "#fb9f3a"
             ],
             [
              0.8888888888888888,
              "#fdca26"
             ],
             [
              1,
              "#f0f921"
             ]
            ],
            "type": "contour"
           }
          ],
          "contourcarpet": [
           {
            "colorbar": {
             "outlinewidth": 0,
             "ticks": ""
            },
            "type": "contourcarpet"
           }
          ],
          "heatmap": [
           {
            "colorbar": {
             "outlinewidth": 0,
             "ticks": ""
            },
            "colorscale": [
             [
              0,
              "#0d0887"
             ],
             [
              0.1111111111111111,
              "#46039f"
             ],
             [
              0.2222222222222222,
              "#7201a8"
             ],
             [
              0.3333333333333333,
              "#9c179e"
             ],
             [
              0.4444444444444444,
              "#bd3786"
             ],
             [
              0.5555555555555556,
              "#d8576b"
             ],
             [
              0.6666666666666666,
              "#ed7953"
             ],
             [
              0.7777777777777778,
              "#fb9f3a"
             ],
             [
              0.8888888888888888,
              "#fdca26"
             ],
             [
              1,
              "#f0f921"
             ]
            ],
            "type": "heatmap"
           }
          ],
          "heatmapgl": [
           {
            "colorbar": {
             "outlinewidth": 0,
             "ticks": ""
            },
            "colorscale": [
             [
              0,
              "#0d0887"
             ],
             [
              0.1111111111111111,
              "#46039f"
             ],
             [
              0.2222222222222222,
              "#7201a8"
             ],
             [
              0.3333333333333333,
              "#9c179e"
             ],
             [
              0.4444444444444444,
              "#bd3786"
             ],
             [
              0.5555555555555556,
              "#d8576b"
             ],
             [
              0.6666666666666666,
              "#ed7953"
             ],
             [
              0.7777777777777778,
              "#fb9f3a"
             ],
             [
              0.8888888888888888,
              "#fdca26"
             ],
             [
              1,
              "#f0f921"
             ]
            ],
            "type": "heatmapgl"
           }
          ],
          "histogram": [
           {
            "marker": {
             "pattern": {
              "fillmode": "overlay",
              "size": 10,
              "solidity": 0.2
             }
            },
            "type": "histogram"
           }
          ],
          "histogram2d": [
           {
            "colorbar": {
             "outlinewidth": 0,
             "ticks": ""
            },
            "colorscale": [
             [
              0,
              "#0d0887"
             ],
             [
              0.1111111111111111,
              "#46039f"
             ],
             [
              0.2222222222222222,
              "#7201a8"
             ],
             [
              0.3333333333333333,
              "#9c179e"
             ],
             [
              0.4444444444444444,
              "#bd3786"
             ],
             [
              0.5555555555555556,
              "#d8576b"
             ],
             [
              0.6666666666666666,
              "#ed7953"
             ],
             [
              0.7777777777777778,
              "#fb9f3a"
             ],
             [
              0.8888888888888888,
              "#fdca26"
             ],
             [
              1,
              "#f0f921"
             ]
            ],
            "type": "histogram2d"
           }
          ],
          "histogram2dcontour": [
           {
            "colorbar": {
             "outlinewidth": 0,
             "ticks": ""
            },
            "colorscale": [
             [
              0,
              "#0d0887"
             ],
             [
              0.1111111111111111,
              "#46039f"
             ],
             [
              0.2222222222222222,
              "#7201a8"
             ],
             [
              0.3333333333333333,
              "#9c179e"
             ],
             [
              0.4444444444444444,
              "#bd3786"
             ],
             [
              0.5555555555555556,
              "#d8576b"
             ],
             [
              0.6666666666666666,
              "#ed7953"
             ],
             [
              0.7777777777777778,
              "#fb9f3a"
             ],
             [
              0.8888888888888888,
              "#fdca26"
             ],
             [
              1,
              "#f0f921"
             ]
            ],
            "type": "histogram2dcontour"
           }
          ],
          "mesh3d": [
           {
            "colorbar": {
             "outlinewidth": 0,
             "ticks": ""
            },
            "type": "mesh3d"
           }
          ],
          "parcoords": [
           {
            "line": {
             "colorbar": {
              "outlinewidth": 0,
              "ticks": ""
             }
            },
            "type": "parcoords"
           }
          ],
          "pie": [
           {
            "automargin": true,
            "type": "pie"
           }
          ],
          "scatter": [
           {
            "fillpattern": {
             "fillmode": "overlay",
             "size": 10,
             "solidity": 0.2
            },
            "type": "scatter"
           }
          ],
          "scatter3d": [
           {
            "line": {
             "colorbar": {
              "outlinewidth": 0,
              "ticks": ""
             }
            },
            "marker": {
             "colorbar": {
              "outlinewidth": 0,
              "ticks": ""
             }
            },
            "type": "scatter3d"
           }
          ],
          "scattercarpet": [
           {
            "marker": {
             "colorbar": {
              "outlinewidth": 0,
              "ticks": ""
             }
            },
            "type": "scattercarpet"
           }
          ],
          "scattergeo": [
           {
            "marker": {
             "colorbar": {
              "outlinewidth": 0,
              "ticks": ""
             }
            },
            "type": "scattergeo"
           }
          ],
          "scattergl": [
           {
            "marker": {
             "colorbar": {
              "outlinewidth": 0,
              "ticks": ""
             }
            },
            "type": "scattergl"
           }
          ],
          "scattermapbox": [
           {
            "marker": {
             "colorbar": {
              "outlinewidth": 0,
              "ticks": ""
             }
            },
            "type": "scattermapbox"
           }
          ],
          "scatterpolar": [
           {
            "marker": {
             "colorbar": {
              "outlinewidth": 0,
              "ticks": ""
             }
            },
            "type": "scatterpolar"
           }
          ],
          "scatterpolargl": [
           {
            "marker": {
             "colorbar": {
              "outlinewidth": 0,
              "ticks": ""
             }
            },
            "type": "scatterpolargl"
           }
          ],
          "scatterternary": [
           {
            "marker": {
             "colorbar": {
              "outlinewidth": 0,
              "ticks": ""
             }
            },
            "type": "scatterternary"
           }
          ],
          "surface": [
           {
            "colorbar": {
             "outlinewidth": 0,
             "ticks": ""
            },
            "colorscale": [
             [
              0,
              "#0d0887"
             ],
             [
              0.1111111111111111,
              "#46039f"
             ],
             [
              0.2222222222222222,
              "#7201a8"
             ],
             [
              0.3333333333333333,
              "#9c179e"
             ],
             [
              0.4444444444444444,
              "#bd3786"
             ],
             [
              0.5555555555555556,
              "#d8576b"
             ],
             [
              0.6666666666666666,
              "#ed7953"
             ],
             [
              0.7777777777777778,
              "#fb9f3a"
             ],
             [
              0.8888888888888888,
              "#fdca26"
             ],
             [
              1,
              "#f0f921"
             ]
            ],
            "type": "surface"
           }
          ],
          "table": [
           {
            "cells": {
             "fill": {
              "color": "#EBF0F8"
             },
             "line": {
              "color": "white"
             }
            },
            "header": {
             "fill": {
              "color": "#C8D4E3"
             },
             "line": {
              "color": "white"
             }
            },
            "type": "table"
           }
          ]
         },
         "layout": {
          "annotationdefaults": {
           "arrowcolor": "#2a3f5f",
           "arrowhead": 0,
           "arrowwidth": 1
          },
          "autotypenumbers": "strict",
          "coloraxis": {
           "colorbar": {
            "outlinewidth": 0,
            "ticks": ""
           }
          },
          "colorscale": {
           "diverging": [
            [
             0,
             "#8e0152"
            ],
            [
             0.1,
             "#c51b7d"
            ],
            [
             0.2,
             "#de77ae"
            ],
            [
             0.3,
             "#f1b6da"
            ],
            [
             0.4,
             "#fde0ef"
            ],
            [
             0.5,
             "#f7f7f7"
            ],
            [
             0.6,
             "#e6f5d0"
            ],
            [
             0.7,
             "#b8e186"
            ],
            [
             0.8,
             "#7fbc41"
            ],
            [
             0.9,
             "#4d9221"
            ],
            [
             1,
             "#276419"
            ]
           ],
           "sequential": [
            [
             0,
             "#0d0887"
            ],
            [
             0.1111111111111111,
             "#46039f"
            ],
            [
             0.2222222222222222,
             "#7201a8"
            ],
            [
             0.3333333333333333,
             "#9c179e"
            ],
            [
             0.4444444444444444,
             "#bd3786"
            ],
            [
             0.5555555555555556,
             "#d8576b"
            ],
            [
             0.6666666666666666,
             "#ed7953"
            ],
            [
             0.7777777777777778,
             "#fb9f3a"
            ],
            [
             0.8888888888888888,
             "#fdca26"
            ],
            [
             1,
             "#f0f921"
            ]
           ],
           "sequentialminus": [
            [
             0,
             "#0d0887"
            ],
            [
             0.1111111111111111,
             "#46039f"
            ],
            [
             0.2222222222222222,
             "#7201a8"
            ],
            [
             0.3333333333333333,
             "#9c179e"
            ],
            [
             0.4444444444444444,
             "#bd3786"
            ],
            [
             0.5555555555555556,
             "#d8576b"
            ],
            [
             0.6666666666666666,
             "#ed7953"
            ],
            [
             0.7777777777777778,
             "#fb9f3a"
            ],
            [
             0.8888888888888888,
             "#fdca26"
            ],
            [
             1,
             "#f0f921"
            ]
           ]
          },
          "colorway": [
           "#636efa",
           "#EF553B",
           "#00cc96",
           "#ab63fa",
           "#FFA15A",
           "#19d3f3",
           "#FF6692",
           "#B6E880",
           "#FF97FF",
           "#FECB52"
          ],
          "font": {
           "color": "#2a3f5f"
          },
          "geo": {
           "bgcolor": "white",
           "lakecolor": "white",
           "landcolor": "#E5ECF6",
           "showlakes": true,
           "showland": true,
           "subunitcolor": "white"
          },
          "hoverlabel": {
           "align": "left"
          },
          "hovermode": "closest",
          "mapbox": {
           "style": "light"
          },
          "paper_bgcolor": "white",
          "plot_bgcolor": "#E5ECF6",
          "polar": {
           "angularaxis": {
            "gridcolor": "white",
            "linecolor": "white",
            "ticks": ""
           },
           "bgcolor": "#E5ECF6",
           "radialaxis": {
            "gridcolor": "white",
            "linecolor": "white",
            "ticks": ""
           }
          },
          "scene": {
           "xaxis": {
            "backgroundcolor": "#E5ECF6",
            "gridcolor": "white",
            "gridwidth": 2,
            "linecolor": "white",
            "showbackground": true,
            "ticks": "",
            "zerolinecolor": "white"
           },
           "yaxis": {
            "backgroundcolor": "#E5ECF6",
            "gridcolor": "white",
            "gridwidth": 2,
            "linecolor": "white",
            "showbackground": true,
            "ticks": "",
            "zerolinecolor": "white"
           },
           "zaxis": {
            "backgroundcolor": "#E5ECF6",
            "gridcolor": "white",
            "gridwidth": 2,
            "linecolor": "white",
            "showbackground": true,
            "ticks": "",
            "zerolinecolor": "white"
           }
          },
          "shapedefaults": {
           "line": {
            "color": "#2a3f5f"
           }
          },
          "ternary": {
           "aaxis": {
            "gridcolor": "white",
            "linecolor": "white",
            "ticks": ""
           },
           "baxis": {
            "gridcolor": "white",
            "linecolor": "white",
            "ticks": ""
           },
           "bgcolor": "#E5ECF6",
           "caxis": {
            "gridcolor": "white",
            "linecolor": "white",
            "ticks": ""
           }
          },
          "title": {
           "x": 0.05
          },
          "xaxis": {
           "automargin": true,
           "gridcolor": "white",
           "linecolor": "white",
           "ticks": "",
           "title": {
            "standoff": 15
           },
           "zerolinecolor": "white",
           "zerolinewidth": 2
          },
          "yaxis": {
           "automargin": true,
           "gridcolor": "white",
           "linecolor": "white",
           "ticks": "",
           "title": {
            "standoff": 15
           },
           "zerolinecolor": "white",
           "zerolinewidth": 2
          }
         }
        },
        "width": 800,
        "xaxis": {
         "anchor": "y",
         "domain": [
          0,
          1
         ],
         "range": [
          1996,
          2024
         ],
         "title": {
          "text": "Year"
         }
        },
        "yaxis": {
         "anchor": "x",
         "domain": [
          0,
          1
         ],
         "title": {
          "text": "Balassa Index"
         }
        }
       }
      }
     },
     "metadata": {},
     "output_type": "display_data"
    }
   ],
   "source": [
    "number = 5\n",
    "\n",
    "top = get_top_balassa_index(soy_country_exports, top=number)\n",
    "\n",
    "plt.figure(figsize=(10, 6))\n",
    "\n",
    "# Group the DataFrame by country\n",
    "grouped_df = soy_country_exports.loc[soy_country_exports['Country'].isin(top), :].groupby('Country')\n",
    "\n",
    "# Create a line chart for each country\n",
    "for country, data in grouped_df:\n",
    "    plt.plot(data['Year'], data['Balassa Index'], label=country)\n",
    "\n",
    "# Add labels and title\n",
    "plt.xlabel('Year')\n",
    "plt.ylabel('Balassa Index')\n",
    "plt.title(f'Top {number} Balassa Index for Soybeans')\n",
    "\n",
    "plt.xlim(soy_country_exports['Year'].min() + 1, soy_country_exports['Year'].max() + 1)\n",
    "\n",
    "# Add legend\n",
    "plt.legend()\n",
    "\n",
    "# Show the chart\n",
    "plt.show()\n",
    "\n",
    "\n",
    "fig = px.line(soy_country_exports.loc[soy_country_exports['Country'].isin(top), :], x='Year', y='Balassa Index', color='Country', symbol=\"Country\")\n",
    "\n",
    "# Adjust the figure layout\n",
    "fig.update_layout(\n",
    "    width=800,  # Adjust the width as desired\n",
    "    height=600,  # Adjust the height as desired\n",
    ")\n",
    "\n",
    "fig.update_xaxes(range=[soy_country_exports['Year'].min(), soy_country_exports['Year'].max() + 2])  # Assumes the data is sorted by year\n",
    "fig.show()"
   ]
  }
 ],
 "metadata": {
  "kernelspec": {
   "display_name": "Python 3",
   "language": "python",
   "name": "python3"
  },
  "language_info": {
   "codemirror_mode": {
    "name": "ipython",
    "version": 3
   },
   "file_extension": ".py",
   "mimetype": "text/x-python",
   "name": "python",
   "nbconvert_exporter": "python",
   "pygments_lexer": "ipython3",
   "version": "3.9.0"
  },
  "orig_nbformat": 4
 },
 "nbformat": 4,
 "nbformat_minor": 2
}
