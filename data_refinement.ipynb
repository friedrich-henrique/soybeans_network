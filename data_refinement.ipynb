{
 "cells": [
  {
   "cell_type": "code",
   "execution_count": 1,
   "metadata": {},
   "outputs": [],
   "source": [
    "import pandas as pd\n",
    "import matplotlib.pyplot as plt\n",
    "import networkx as nx\n",
    "import seaborn as sns\n",
    "import plotly.express as px\n",
    "from matplotlib import colors\n",
    "from os import listdir\n",
    "from os.path import isfile, join\n",
    "import numpy as np"
   ]
  },
  {
   "cell_type": "code",
   "execution_count": 2,
   "metadata": {},
   "outputs": [],
   "source": [
    "table = input('Enter the name of the table: ')"
   ]
  },
  {
   "cell_type": "code",
   "execution_count": 3,
   "metadata": {},
   "outputs": [],
   "source": [
    "soy_trade = pd.read_csv('https://raw.githubusercontent.com/friedrich-henrique/datasets_soybeans_research/main/soytrade.csv')\n",
    "flour_trade = pd.read_csv('https://raw.githubusercontent.com/friedrich-henrique/datasets_soybeans_research/main/flourtrade.csv')\n",
    "country_size = pd.read_csv('https://raw.githubusercontent.com/friedrich-henrique/datasets_soybeans_research/main/countries_size.csv')\n",
    "ex_rate = pd.read_csv('https://raw.githubusercontent.com/friedrich-henrique/datasets_soybeans_research/main/Exchange%20Rates.csv', skiprows=2)\n",
    "gdp_data = pd.read_csv('https://raw.githubusercontent.com/friedrich-henrique/datasets_soybeans_research/main/Gross%20Domestic%20Product.csv',skiprows=2)\n",
    "consumer_price = pd.read_csv('https://raw.githubusercontent.com/friedrich-henrique/datasets_soybeans_research/main/Consumer%20Price%20Index.csv?token=GHSAT0AAAAAACAIZJ3ILPT5RHHYRPV7PCQCZCWB3UA', skiprows=2)\n",
    "\n",
    "\n",
    "soy_trade.rename(columns={\"1201 in 1000 USD \": \"trade_value\"}, inplace=True)\n",
    "soy_trade['ln_trade_value'] = soy_trade['trade_value'].apply(lambda x: np.log(x))\n",
    "\n",
    "flour_trade.rename(columns={\"120810 in 1000 USD \": \"trade_value\", \"ReporterISO3\": \"Source\", \"PartnerISO3\" : \"Target\"}, inplace=True)\n",
    "flour_trade['ln_trade_value'] = flour_trade['trade_value'].apply(lambda x: np.log(x))\n",
    "\n",
    "country_size.drop([0,1,2], inplace=True)\n",
    "country_size.columns = country_size.iloc[0]\n",
    "country_size.drop([3], inplace=True)\n",
    "country_size.drop(columns=['Indicator Name','Indicator Code', 'Country Name', 1960.0], inplace=True)\n",
    "\n",
    "gdp_data.rename({'Unnamed: 0': 'Country Code'}, inplace=True, axis=1)\n",
    "ex_rate.rename({'Unnamed: 0': 'Country Code'}, inplace=True, axis=1)\n",
    "consumer_price.rename({'Unnamed: 0': 'Country Code'}, inplace=True, axis=1)"
   ]
  },
  {
   "cell_type": "code",
   "execution_count": 4,
   "metadata": {},
   "outputs": [],
   "source": [
    "sizes = country_size.melt(id_vars=[\"Country Code\"],\n",
    "                  var_name=\"Year\",\n",
    "                  value_name=\"Area\")\n",
    "\n",
    "sizes[\"Year\"] = sizes[\"Year\"].apply(lambda x: int(x))"
   ]
  },
  {
   "cell_type": "code",
   "execution_count": 5,
   "metadata": {},
   "outputs": [],
   "source": [
    "ex_rate = ex_rate.melt(id_vars=[\"Country Code\"],\n",
    "                  var_name=\"Year\",\n",
    "                  value_name=\"Exchange Rate\")\n",
    "\n",
    "ex_rate[\"Year\"] = ex_rate[\"Year\"].apply(lambda x: int(x))"
   ]
  },
  {
   "cell_type": "code",
   "execution_count": 6,
   "metadata": {},
   "outputs": [],
   "source": [
    "consumer_price = consumer_price.melt(id_vars=[\"Country Code\"],\n",
    "    var_name=\"Year\",\n",
    "    value_name=\"Consumer Price Index\")\n",
    "\n",
    "consumer_price[\"Year\"] = consumer_price[\"Year\"].apply(lambda x: int(x))"
   ]
  },
  {
   "cell_type": "code",
   "execution_count": 7,
   "metadata": {},
   "outputs": [],
   "source": [
    "def add_attributes(trade_table, sizes_table, attribute_name):\n",
    "    trade_table = trade_table.copy()\n",
    "    sizes_table = sizes_table.copy()\n",
    "    sizes_table = sizes_table[sizes_table[\"Year\"] >= trade_table[\"Year\"].min()] \n",
    "    trade_table.reset_index(drop=True, inplace=True)\n",
    "    sizes_table.reset_index(drop=True, inplace=True)\n",
    "    count = 0\n",
    "    progress = 0\n",
    "   \n",
    "    for row in range(len(trade_table)):\n",
    "        source_area_slice = sizes_table[(sizes_table[\"Country Code\"] == trade_table.iloc[row, 0]) & (sizes_table[\"Year\"] == trade_table.loc[row][\"Year\"])]\n",
    "        target_area_slice = sizes_table[(sizes_table[\"Country Code\"] == trade_table.iloc[row, 1]) & (sizes_table[\"Year\"] == trade_table.loc[row][\"Year\"])]\n",
    "        if len(source_area_slice) > 0:\n",
    "            trade_table.at[row, f\"Source {attribute_name}\"] = source_area_slice.iloc[0][attribute_name]\n",
    "        else: \n",
    "            trade_table.at[row, f\"Source {attribute_name}\"] = None\n",
    "\n",
    "        if len(target_area_slice) > 0:\n",
    "            trade_table.at[row, f\"Target {attribute_name}\"] = target_area_slice.iloc[0][attribute_name]\n",
    "        else:\n",
    "            trade_table.at[row, f\"Target {attribute_name}\"] = None\n",
    "        count += 1\n",
    "        current_progress = count / len(trade_table) * 100\n",
    "        if current_progress >= 1:\n",
    "            if current_progress >= progress + 10:\n",
    "                progress = int(current_progress // 10) * 10\n",
    "                print(f\"{progress}% done\")\n",
    "    return trade_table"
   ]
  },
  {
   "cell_type": "code",
   "execution_count": 8,
   "metadata": {},
   "outputs": [
    {
     "name": "stdout",
     "output_type": "stream",
     "text": [
      "10% done\n",
      "20% done\n",
      "30% done\n",
      "40% done\n",
      "50% done\n",
      "60% done\n",
      "70% done\n",
      "80% done\n",
      "90% done\n",
      "100% done\n"
     ]
    }
   ],
   "source": [
    "data = add_attributes(flour_trade if table==\"flour\" else soy_trade, sizes, \"Area\")"
   ]
  },
  {
   "cell_type": "code",
   "execution_count": 9,
   "metadata": {},
   "outputs": [
    {
     "name": "stdout",
     "output_type": "stream",
     "text": [
      "10% done\n",
      "20% done\n",
      "30% done\n",
      "40% done\n",
      "50% done\n",
      "60% done\n",
      "70% done\n",
      "80% done\n",
      "90% done\n",
      "100% done\n"
     ]
    }
   ],
   "source": [
    "data = add_attributes(data, ex_rate, \"Exchange Rate\")"
   ]
  },
  {
   "cell_type": "code",
   "execution_count": 10,
   "metadata": {},
   "outputs": [],
   "source": [
    "# Subsitute nan of eu countries with EMU exchange rate\n",
    "## EMU = European Monetary Union (Euro)\n",
    "eu_countries = ['AUT', 'BEL', 'CYP', 'EST', 'FIN', 'FRA', 'DEU', 'GRC', 'IRL', 'ITA', 'LVA', 'LTU', 'LUX', 'MLT', 'NLD', 'PRT', 'SVK', 'SVN', 'ESP']\n",
    "\n",
    "for year in range(1999, data['Year'].max()+1):\n",
    "    for country in eu_countries:\n",
    "        ex_rate_value = ex_rate[(ex_rate[\"Year\"] == year) & (ex_rate[\"Country Code\"] == 'EMU')]['Exchange Rate'].values[0]\n",
    "        data.loc[(data[\"Year\"] == year) & (data[\"Source\"].isin(eu_countries)), 'Source Exchange Rate'] = ex_rate_value\n",
    "        data.loc[(data[\"Year\"] == year) & (data[\"Target\"].isin(eu_countries)), 'Target Exchange Rate'] = ex_rate_value"
   ]
  },
  {
   "cell_type": "code",
   "execution_count": 11,
   "metadata": {},
   "outputs": [],
   "source": [
    "data['Source Exchange Rate'] = [0 if i is None else float(str(i).replace(\",\", \"\")) for i in data[\"Source Exchange Rate\"]]\n",
    "data['Target Exchange Rate'] = [0 if i is None else float(str(i).replace(\",\", \"\")) for i in data[\"Target Exchange Rate\"]]\n",
    "\n",
    "data[\"Ex Rate Source / Target\"] = data[\"Source Exchange Rate\"] / data[\"Target Exchange Rate\"]\n",
    "data[\"Ex Rate Target / Source\"] = data[\"Target Exchange Rate\"] / data[\"Source Exchange Rate\"]"
   ]
  },
  {
   "cell_type": "code",
   "execution_count": 12,
   "metadata": {},
   "outputs": [
    {
     "name": "stdout",
     "output_type": "stream",
     "text": [
      "10% done\n",
      "20% done\n",
      "30% done\n",
      "40% done\n",
      "50% done\n",
      "60% done\n",
      "70% done\n",
      "80% done\n",
      "90% done\n",
      "100% done\n"
     ]
    }
   ],
   "source": [
    "data = add_attributes(data, consumer_price, \"Consumer Price Index\")"
   ]
  },
  {
   "cell_type": "code",
   "execution_count": 13,
   "metadata": {},
   "outputs": [],
   "source": [
    "data['Source Consumer Price Index'] = [0 if i is None else float(str(i).replace(\",\", \"\")) for i in data[\"Source Consumer Price Index\"]]\n",
    "data['Target Consumer Price Index'] = [0 if i is None else float(str(i).replace(\",\", \"\")) for i in data[\"Target Consumer Price Index\"]]\n",
    "\n",
    "data[\"exchange_rate ijt\"] = data[\"Ex Rate Target / Source\"] * (data[\"Source Consumer Price Index\"] / data[\"Target Consumer Price Index\"])\n",
    "\n",
    "gdp_data = gdp_data.melt(id_vars=[\"Country Code\"],\n",
    "    var_name=\"Year\",\n",
    "    value_name=\"GDP\")\n",
    "gdp_data[\"Year\"] = gdp_data[\"Year\"].apply(lambda x: int(x))"
   ]
  },
  {
   "cell_type": "code",
   "execution_count": 14,
   "metadata": {},
   "outputs": [
    {
     "name": "stdout",
     "output_type": "stream",
     "text": [
      "10% done\n",
      "20% done\n",
      "30% done\n",
      "40% done\n",
      "50% done\n",
      "60% done\n",
      "70% done\n",
      "80% done\n",
      "90% done\n",
      "100% done\n"
     ]
    }
   ],
   "source": [
    "data = add_attributes(data, gdp_data, \"GDP\")"
   ]
  },
  {
   "cell_type": "code",
   "execution_count": 15,
   "metadata": {},
   "outputs": [],
   "source": [
    "data['Source GDP'] = [0 if i is None else float(str(i).replace(\",\", \"\")) for i in data[\"Source GDP\"]]\n",
    "data['Target GDP'] = [0 if i is None else float(str(i).replace(\",\", \"\")) for i in data[\"Target GDP\"]]\n",
    "\n",
    "data.replace(0, np.nan, inplace=True)\n",
    "\n",
    "data[\"level of output ijt\"] = (np.log(data[\"Source GDP\"]) + np.log(data[\"Target GDP\"])) / 2"
   ]
  },
  {
   "cell_type": "code",
   "execution_count": 16,
   "metadata": {},
   "outputs": [],
   "source": [
    "data.to_csv(f\"{table}_dataset.csv\", index=False)"
   ]
  }
 ],
 "metadata": {
  "kernelspec": {
   "display_name": "Python 3",
   "language": "python",
   "name": "python3"
  },
  "language_info": {
   "codemirror_mode": {
    "name": "ipython",
    "version": 3
   },
   "file_extension": ".py",
   "mimetype": "text/x-python",
   "name": "python",
   "nbconvert_exporter": "python",
   "pygments_lexer": "ipython3",
   "version": "3.9.0"
  },
  "orig_nbformat": 4
 },
 "nbformat": 4,
 "nbformat_minor": 2
}
